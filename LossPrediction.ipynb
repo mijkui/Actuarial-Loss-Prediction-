{
 "cells": [
  {
   "cell_type": "code",
   "execution_count": 19,
   "metadata": {},
   "outputs": [],
   "source": [
    "import pandas as pd\n",
    "import numpy as np\n",
    "from sklearn.model_selection import train_test_split, GridSearchCV, ParameterGrid\n",
    "from sklearn.preprocessing import LabelEncoder\n",
    "from sklearn.ensemble import GradientBoostingRegressor, RandomForestRegressor\n",
    "from catboost import CatBoostRegressor\n",
    "from sklearn.metrics import mean_squared_error\n"
   ]
  },
  {
   "cell_type": "code",
   "execution_count": 20,
   "metadata": {},
   "outputs": [],
   "source": [
    "def load_data(train_path: str, test_path: str, submission_path: str):\n",
    "    \"\"\"Read CSVs into DataFrames.\"\"\"\n",
    "    return (pd.read_csv(train_path),\n",
    "            pd.read_csv(test_path),\n",
    "            pd.read_csv(submission_path))"
   ]
  },
  {
   "cell_type": "code",
   "execution_count": 21,
   "metadata": {},
   "outputs": [],
   "source": [
    "\n",
    "def clean_and_engineer(df: pd.DataFrame) -> pd.DataFrame:\n",
    "    \"\"\"Basic cleaning + feature engineering (date parts, wage ratio, dependents).\"\"\"\n",
    "    df = df.copy()  # avoid SettingWithCopy\n",
    "    df['DateTimeOfAccident'] = pd.to_datetime(df['DateTimeOfAccident'])\n",
    "    df['DateReported']       = pd.to_datetime(df['DateReported'])\n",
    "    df['ReportDelayDays']    = (df['DateReported'] - df['DateTimeOfAccident']).dt.days\n",
    "    df['AccidentMonth']      = df['DateTimeOfAccident'].dt.month\n",
    "    df['AccidentHour']       = df['DateTimeOfAccident'].dt.hour\n",
    "    df['WagePerHour']        = df['WeeklyWages'] / df['HoursWorkedPerWeek'].replace(0, np.nan)\n",
    "    df['DependentsTotal']    = df['DependentChildren'] + df['DependentsOther']\n",
    "    return df"
   ]
  },
  {
   "cell_type": "code",
   "execution_count": 22,
   "metadata": {},
   "outputs": [],
   "source": [
    "FEATURES = [\n",
    "    'Age', 'AccidentMonth', 'AccidentHour', 'ReportDelayDays',\n",
    "    'WeeklyWages', 'HoursWorkedPerWeek', 'DaysWorkedPerWeek',\n",
    "    'WagePerHour', 'DependentsTotal',\n",
    "    'Gender', 'MaritalStatus', 'PartTimeFullTime'\n",
    "]"
   ]
  },
  {
   "cell_type": "markdown",
   "metadata": {},
   "source": [
    "### Pre-processing helpers"
   ]
  },
  {
   "cell_type": "code",
   "execution_count": 23,
   "metadata": {},
   "outputs": [],
   "source": [
    "def encode_and_impute(X_train: pd.DataFrame, X_test: pd.DataFrame):\n",
    "    \"\"\"Label‑encode categoricals then fill NaNs with 0.\"\"\"\n",
    "    cats = ['Gender', 'MaritalStatus', 'PartTimeFullTime']\n",
    "    for col in cats:\n",
    "        le = LabelEncoder()\n",
    "        X_train[col] = le.fit_transform(X_train[col].astype(str))\n",
    "        X_test[col]  = le.transform(X_test[col].astype(str))\n",
    "    return X_train.fillna(0), X_test.fillna(0)"
   ]
  },
  {
   "cell_type": "markdown",
   "metadata": {},
   "source": [
    "### Verbose model comparison"
   ]
  },
  {
   "cell_type": "markdown",
   "metadata": {},
   "source": [
    "1. We want to use grid search to try out multiple combinations of model hyperparameters and find the best-performing combination based on a scoring metric (like RMSE. \n",
    "2. It will automatically:\n",
    "\t- Train the model with each combination\n",
    "\t- Evaluate using cross-validation (e.g. 5 folds)\n",
    "\t- Pick the one with the lowest average RMSE"
   ]
  },
  {
   "cell_type": "code",
   "execution_count": 24,
   "metadata": {},
   "outputs": [],
   "source": [
    "\n",
    "def compare_models(X_tr, y_tr, X_val, y_val):\n",
    "    \"\"\"Grid‑search three algorithms and print step‑by‑step progress.\"\"\"\n",
    "\n",
    "    model_defs = {\n",
    "        'GradientBoosting': (\n",
    "            GradientBoostingRegressor(random_state=42),\n",
    "            {'n_estimators': [100, 200],\n",
    "             'max_depth':    [3, 4],\n",
    "             'learning_rate':[0.05, 0.1]}\n",
    "        ),\n",
    "        'RandomForest': (\n",
    "            RandomForestRegressor(random_state=42),\n",
    "            {'n_estimators': [100, 200],\n",
    "             'max_depth':    [None, 10]}\n",
    "        ),\n",
    "        'CatBoost': (\n",
    "            CatBoostRegressor(verbose=0, random_state=42),\n",
    "            {'iterations':   [100, 200],\n",
    "             'depth':        [4, 6],\n",
    "             'learning_rate':[0.05, 0.1]}\n",
    "        )\n",
    "    }\n",
    "\n",
    "    print(\"\\n MODEL COMPARISON START \")\n",
    "    best_rmse  = float('inf')\n",
    "    best_model = None\n",
    "    best_name  = None\n",
    "\n",
    "    for name, (estimator, grid) in model_defs.items():\n",
    "        total = len(ParameterGrid(grid))\n",
    "        print(f\"\\n▶️ {name}: {total} hyper‑parameter combos\")\n",
    "        print(grid)\n",
    "        search = GridSearchCV(\n",
    "            estimator,\n",
    "            grid,\n",
    "            scoring='neg_root_mean_squared_error',\n",
    "            cv=5,\n",
    "            n_jobs=-1,\n",
    "            verbose=0\n",
    "        )\n",
    "        search.fit(X_tr, y_tr)\n",
    "\n",
    "        # hold‑out evaluation\n",
    "        y_pred = search.predict(X_val)\n",
    "        rmse = np.sqrt(mean_squared_error(y_val, y_pred))\n",
    "        print(f\"   → Best CV RMSE on hold‑out: {rmse:.2f}\")\n",
    "        print(f\"   → Best params: {search.best_params_}\")\n",
    "\n",
    "        if rmse < best_rmse:\n",
    "            best_rmse  = rmse\n",
    "            best_model = search.best_estimator_\n",
    "            best_name  = name\n",
    "\n",
    "    print(\"\\n🏆 SELECTED MODEL →\", best_name, \"| RMSE:\", round(best_rmse, 2))\n",
    "    \n",
    "    return best_model, best_rmse"
   ]
  },
  {
   "cell_type": "markdown",
   "metadata": {},
   "source": [
    "### Pipeline driver"
   ]
  },
  {
   "cell_type": "code",
   "execution_count": 25,
   "metadata": {},
   "outputs": [
    {
     "name": "stdout",
     "output_type": "stream",
     "text": [
      "Training rows: 43200, Validation rows: 10800\n",
      "\n",
      " MODEL COMPARISON START \n",
      "\n",
      "▶️ GradientBoosting: 8 hyper‑parameter combos\n",
      "{'n_estimators': [100, 200], 'max_depth': [3, 4], 'learning_rate': [0.05, 0.1]}\n"
     ]
    },
    {
     "name": "stderr",
     "output_type": "stream",
     "text": [
      "/var/folders/lf/0zj1tbg167x3xkz1zpntjpq40000gn/T/ipykernel_61464/4171153047.py:6: SettingWithCopyWarning: \n",
      "A value is trying to be set on a copy of a slice from a DataFrame.\n",
      "Try using .loc[row_indexer,col_indexer] = value instead\n",
      "\n",
      "See the caveats in the documentation: https://pandas.pydata.org/pandas-docs/stable/user_guide/indexing.html#returning-a-view-versus-a-copy\n",
      "  X_train[col] = le.fit_transform(X_train[col].astype(str))\n",
      "/var/folders/lf/0zj1tbg167x3xkz1zpntjpq40000gn/T/ipykernel_61464/4171153047.py:7: SettingWithCopyWarning: \n",
      "A value is trying to be set on a copy of a slice from a DataFrame.\n",
      "Try using .loc[row_indexer,col_indexer] = value instead\n",
      "\n",
      "See the caveats in the documentation: https://pandas.pydata.org/pandas-docs/stable/user_guide/indexing.html#returning-a-view-versus-a-copy\n",
      "  X_test[col]  = le.transform(X_test[col].astype(str))\n",
      "/var/folders/lf/0zj1tbg167x3xkz1zpntjpq40000gn/T/ipykernel_61464/4171153047.py:6: SettingWithCopyWarning: \n",
      "A value is trying to be set on a copy of a slice from a DataFrame.\n",
      "Try using .loc[row_indexer,col_indexer] = value instead\n",
      "\n",
      "See the caveats in the documentation: https://pandas.pydata.org/pandas-docs/stable/user_guide/indexing.html#returning-a-view-versus-a-copy\n",
      "  X_train[col] = le.fit_transform(X_train[col].astype(str))\n",
      "/var/folders/lf/0zj1tbg167x3xkz1zpntjpq40000gn/T/ipykernel_61464/4171153047.py:7: SettingWithCopyWarning: \n",
      "A value is trying to be set on a copy of a slice from a DataFrame.\n",
      "Try using .loc[row_indexer,col_indexer] = value instead\n",
      "\n",
      "See the caveats in the documentation: https://pandas.pydata.org/pandas-docs/stable/user_guide/indexing.html#returning-a-view-versus-a-copy\n",
      "  X_test[col]  = le.transform(X_test[col].astype(str))\n",
      "/var/folders/lf/0zj1tbg167x3xkz1zpntjpq40000gn/T/ipykernel_61464/4171153047.py:6: SettingWithCopyWarning: \n",
      "A value is trying to be set on a copy of a slice from a DataFrame.\n",
      "Try using .loc[row_indexer,col_indexer] = value instead\n",
      "\n",
      "See the caveats in the documentation: https://pandas.pydata.org/pandas-docs/stable/user_guide/indexing.html#returning-a-view-versus-a-copy\n",
      "  X_train[col] = le.fit_transform(X_train[col].astype(str))\n",
      "/var/folders/lf/0zj1tbg167x3xkz1zpntjpq40000gn/T/ipykernel_61464/4171153047.py:7: SettingWithCopyWarning: \n",
      "A value is trying to be set on a copy of a slice from a DataFrame.\n",
      "Try using .loc[row_indexer,col_indexer] = value instead\n",
      "\n",
      "See the caveats in the documentation: https://pandas.pydata.org/pandas-docs/stable/user_guide/indexing.html#returning-a-view-versus-a-copy\n",
      "  X_test[col]  = le.transform(X_test[col].astype(str))\n"
     ]
    },
    {
     "name": "stdout",
     "output_type": "stream",
     "text": [
      "   → Best CV RMSE on hold‑out: 29445.12\n",
      "   → Best params: {'learning_rate': 0.05, 'max_depth': 3, 'n_estimators': 100}\n",
      "\n",
      "▶️ RandomForest: 4 hyper‑parameter combos\n",
      "{'n_estimators': [100, 200], 'max_depth': [None, 10]}\n"
     ]
    },
    {
     "name": "stderr",
     "output_type": "stream",
     "text": [
      "/Library/Frameworks/Python.framework/Versions/3.10/lib/python3.10/site-packages/joblib/externals/loky/process_executor.py:752: UserWarning: A worker stopped while some jobs were given to the executor. This can be caused by a too short worker timeout or by a memory leak.\n",
      "  warnings.warn(\n"
     ]
    },
    {
     "name": "stdout",
     "output_type": "stream",
     "text": [
      "   → Best CV RMSE on hold‑out: 29852.69\n",
      "   → Best params: {'max_depth': 10, 'n_estimators': 100}\n",
      "\n",
      "▶️ CatBoost: 8 hyper‑parameter combos\n",
      "{'iterations': [100, 200], 'depth': [4, 6], 'learning_rate': [0.05, 0.1]}\n",
      "   → Best CV RMSE on hold‑out: 29308.80\n",
      "   → Best params: {'depth': 4, 'iterations': 200, 'learning_rate': 0.05}\n",
      "\n",
      "🏆 SELECTED MODEL → CatBoost | RMSE: 29308.8\n",
      "✅ submission.csv saved | Public RMSE TBD on Kaggle\n",
      "\n"
     ]
    }
   ],
   "source": [
    "def main():\n",
    "    # 1) Load data\n",
    "    train, test, submission = load_data('train.csv', 'test.csv', 'sample_submission.csv')\n",
    "\n",
    "    # 2) Feature engineering\n",
    "    train = clean_and_engineer(train)\n",
    "    test  = clean_and_engineer(test)\n",
    "\n",
    "    # 3) Build matrices\n",
    "    X = train[FEATURES]\n",
    "    y = train['UltimateIncurredClaimCost']\n",
    "    X_test = test[FEATURES]\n",
    "    X, X_test = encode_and_impute(X, X_test)\n",
    "\n",
    "    # 4) Split once for final validation\n",
    "    X_tr, X_val, y_tr, y_val = train_test_split(X, y, test_size=0.2, random_state=42)\n",
    "    print(f\"Training rows: {X_tr.shape[0]}, Validation rows: {X_val.shape[0]}\")\n",
    "\n",
    "    # 5) Compare models → choose best\n",
    "    best_model, best_rmse = compare_models(X_tr, y_tr, X_val, y_val)\n",
    "\n",
    "    # 6) Retrain on full data and predict\n",
    "    best_model.fit(X, y)\n",
    "    submission['UltimateIncurredClaimCost'] = best_model.predict(X_test)\n",
    "    submission.to_csv('submission.csv', index=False)\n",
    "    print(\"✅ submission.csv saved | Public RMSE TBD on Kaggle\\n\")\n",
    "    \n",
    "    return best_model\n",
    "\n",
    "if __name__ == '__main__':\n",
    "    main()"
   ]
  },
  {
   "cell_type": "code",
   "execution_count": 26,
   "metadata": {},
   "outputs": [
    {
     "name": "stderr",
     "output_type": "stream",
     "text": [
      "/var/folders/lf/0zj1tbg167x3xkz1zpntjpq40000gn/T/ipykernel_61464/4171153047.py:6: SettingWithCopyWarning: \n",
      "A value is trying to be set on a copy of a slice from a DataFrame.\n",
      "Try using .loc[row_indexer,col_indexer] = value instead\n",
      "\n",
      "See the caveats in the documentation: https://pandas.pydata.org/pandas-docs/stable/user_guide/indexing.html#returning-a-view-versus-a-copy\n",
      "  X_train[col] = le.fit_transform(X_train[col].astype(str))\n",
      "/var/folders/lf/0zj1tbg167x3xkz1zpntjpq40000gn/T/ipykernel_61464/4171153047.py:7: SettingWithCopyWarning: \n",
      "A value is trying to be set on a copy of a slice from a DataFrame.\n",
      "Try using .loc[row_indexer,col_indexer] = value instead\n",
      "\n",
      "See the caveats in the documentation: https://pandas.pydata.org/pandas-docs/stable/user_guide/indexing.html#returning-a-view-versus-a-copy\n",
      "  X_test[col]  = le.transform(X_test[col].astype(str))\n",
      "/var/folders/lf/0zj1tbg167x3xkz1zpntjpq40000gn/T/ipykernel_61464/4171153047.py:6: SettingWithCopyWarning: \n",
      "A value is trying to be set on a copy of a slice from a DataFrame.\n",
      "Try using .loc[row_indexer,col_indexer] = value instead\n",
      "\n",
      "See the caveats in the documentation: https://pandas.pydata.org/pandas-docs/stable/user_guide/indexing.html#returning-a-view-versus-a-copy\n",
      "  X_train[col] = le.fit_transform(X_train[col].astype(str))\n",
      "/var/folders/lf/0zj1tbg167x3xkz1zpntjpq40000gn/T/ipykernel_61464/4171153047.py:7: SettingWithCopyWarning: \n",
      "A value is trying to be set on a copy of a slice from a DataFrame.\n",
      "Try using .loc[row_indexer,col_indexer] = value instead\n",
      "\n",
      "See the caveats in the documentation: https://pandas.pydata.org/pandas-docs/stable/user_guide/indexing.html#returning-a-view-versus-a-copy\n",
      "  X_test[col]  = le.transform(X_test[col].astype(str))\n",
      "/var/folders/lf/0zj1tbg167x3xkz1zpntjpq40000gn/T/ipykernel_61464/4171153047.py:6: SettingWithCopyWarning: \n",
      "A value is trying to be set on a copy of a slice from a DataFrame.\n",
      "Try using .loc[row_indexer,col_indexer] = value instead\n",
      "\n",
      "See the caveats in the documentation: https://pandas.pydata.org/pandas-docs/stable/user_guide/indexing.html#returning-a-view-versus-a-copy\n",
      "  X_train[col] = le.fit_transform(X_train[col].astype(str))\n",
      "/var/folders/lf/0zj1tbg167x3xkz1zpntjpq40000gn/T/ipykernel_61464/4171153047.py:7: SettingWithCopyWarning: \n",
      "A value is trying to be set on a copy of a slice from a DataFrame.\n",
      "Try using .loc[row_indexer,col_indexer] = value instead\n",
      "\n",
      "See the caveats in the documentation: https://pandas.pydata.org/pandas-docs/stable/user_guide/indexing.html#returning-a-view-versus-a-copy\n",
      "  X_test[col]  = le.transform(X_test[col].astype(str))\n"
     ]
    },
    {
     "name": "stdout",
     "output_type": "stream",
     "text": [
      "Training rows: 43200, Validation rows: 10800\n",
      "\n",
      " MODEL COMPARISON START \n",
      "\n",
      "▶️ GradientBoosting: 8 hyper‑parameter combos\n",
      "{'n_estimators': [100, 200], 'max_depth': [3, 4], 'learning_rate': [0.05, 0.1]}\n",
      "   → Best CV RMSE on hold‑out: 29445.12\n",
      "   → Best params: {'learning_rate': 0.05, 'max_depth': 3, 'n_estimators': 100}\n",
      "\n",
      "▶️ RandomForest: 4 hyper‑parameter combos\n",
      "{'n_estimators': [100, 200], 'max_depth': [None, 10]}\n"
     ]
    },
    {
     "name": "stderr",
     "output_type": "stream",
     "text": [
      "/Library/Frameworks/Python.framework/Versions/3.10/lib/python3.10/site-packages/joblib/externals/loky/process_executor.py:752: UserWarning: A worker stopped while some jobs were given to the executor. This can be caused by a too short worker timeout or by a memory leak.\n",
      "  warnings.warn(\n"
     ]
    },
    {
     "name": "stdout",
     "output_type": "stream",
     "text": [
      "   → Best CV RMSE on hold‑out: 29852.69\n",
      "   → Best params: {'max_depth': 10, 'n_estimators': 100}\n",
      "\n",
      "▶️ CatBoost: 8 hyper‑parameter combos\n",
      "{'iterations': [100, 200], 'depth': [4, 6], 'learning_rate': [0.05, 0.1]}\n",
      "   → Best CV RMSE on hold‑out: 29308.80\n",
      "   → Best params: {'depth': 4, 'iterations': 200, 'learning_rate': 0.05}\n",
      "\n",
      "🏆 SELECTED MODEL → CatBoost | RMSE: 29308.8\n",
      "✅ submission.csv saved | Public RMSE TBD on Kaggle\n",
      "\n"
     ]
    }
   ],
   "source": [
    "best_model = main()"
   ]
  },
  {
   "cell_type": "code",
   "execution_count": 27,
   "metadata": {},
   "outputs": [
    {
     "data": {
      "image/png": "[encoded data removed]",
      "text/plain": [
       "<Figure size 432x288 with 1 Axes>"
      ]
     },
     "metadata": {
      "needs_background": "light"
     },
     "output_type": "display_data"
    }
   ],
   "source": [
    "import matplotlib.pyplot as plt\n",
    "\n",
    "importances = best_model.feature_importances_\n",
    "plt.figure()\n",
    "plt.barh(FEATURES, importances)\n",
    "plt.title(\"Feature Importances\")\n",
    "plt.xlabel(\"Importance\")\n",
    "plt.tight_layout()\n",
    "plt.show()"
   ]
  },
  {
   "cell_type": "markdown",
   "metadata": {},
   "source": [
    "By feature importance, we get that WagePerHour, WeeklyWages, and Age are the three crucial factors that influence the model output"
   ]
  }
 ],
 "metadata": {
  "kernelspec": {
   "display_name": "Python 3",
   "language": "python",
   "name": "python3"
  },
  "language_info": {
   "codemirror_mode": {
    "name": "ipython",
    "version": 3
   },
   "file_extension": ".py",
   "mimetype": "text/x-python",
   "name": "python",
   "nbconvert_exporter": "python",
   "pygments_lexer": "ipython3",
   "version": "3.10.2"
  }
 },
 "nbformat": 4,
 "nbformat_minor": 2
}
